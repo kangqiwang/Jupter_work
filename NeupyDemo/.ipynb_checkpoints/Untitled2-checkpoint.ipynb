{
 "cells": [
  {
   "cell_type": "code",
   "execution_count": 1,
   "metadata": {
    "scrolled": true
   },
   "outputs": [
    {
     "name": "stderr",
     "output_type": "stream",
     "text": [
      "WARNING (theano.configdefaults): g++ not available, if using conda: `conda install m2w64-toolchain`\n",
      "F:\\Users\\Administrator\\Anaconda3\\lib\\site-packages\\theano\\configdefaults.py:560: UserWarning: DeprecationWarning: there is no c++ compiler.This is deprecated and with Theano 0.11 a c++ compiler will be mandatory\n",
      "  warnings.warn(\"DeprecationWarning: there is no c++ compiler.\"\n",
      "WARNING (theano.configdefaults): g++ not detected ! Theano will be unable to execute optimized C-implementations (for both CPU and GPU) and will default to Python implementations. Performance will be severely degraded. To remove this warning, set Theano flags cxx to an empty string.\n",
      "WARNING (theano.tensor.blas): Using NumPy C-API based implementation for BLAS functions.\n"
     ]
    }
   ],
   "source": [
    "import numpy as np\n",
    "from sklearn import datasets\n",
    "from sklearn.model_selection import StratifiedKFold\n",
    "\n",
    "from neupy.algorithms import PNN\n"
   ]
  },
  {
   "cell_type": "code",
   "execution_count": 2,
   "metadata": {},
   "outputs": [
    {
     "name": "stdout",
     "output_type": "stream",
     "text": [
      "> Start classify iris dataset\n",
      "Test #1 : Guessed 15 out of 15\n",
      "Test #2 : Guessed 14 out of 15\n",
      "Test #3 : Guessed 15 out of 15\n",
      "Test #4 : Guessed 14 out of 15\n",
      "Test #5 : Guessed 13 out of 15\n",
      "Test #6 : Guessed 15 out of 15\n",
      "Test #7 : Guessed 13 out of 15\n",
      "Test #8 : Guessed 15 out of 15\n",
      "Test #9 : Guessed 15 out of 15\n",
      "Test #10: Guessed 15 out of 15\n"
     ]
    }
   ],
   "source": [
    "dataset = datasets.load_iris()\n",
    "data, target = dataset.data, dataset.target\n",
    "\n",
    "print(\"> Start classify iris dataset\")\n",
    "skfold = StratifiedKFold(n_splits=10)\n",
    "\n",
    "for i, (train, test) in enumerate(skfold.split(data, target), start=1):\n",
    "    x_train, x_test = data[train], data[test]\n",
    "    y_train, y_test = target[train], target[test]\n",
    "\n",
    "    pnn_network = PNN(std=0.1, verbose=False)\n",
    "    pnn_network.train(x_train, y_train)\n",
    "    result = pnn_network.predict(x_test)\n",
    "\n",
    "    n_predicted_correctly = np.sum(result == y_test)\n",
    "    n_test_samples = test.size\n",
    "\n",
    "    print(\"Test #{:<2}: Guessed {} out of {}\".format(\n",
    "        i, n_predicted_correctly, n_test_samples))\n"
   ]
  },
  {
   "cell_type": "code",
   "execution_count": 20,
   "metadata": {},
   "outputs": [
    {
     "name": "stdout",
     "output_type": "stream",
     "text": [
      "[[ 0.1961  0.9806]\n",
      " [-0.1961  0.9806]\n",
      " [ 0.9806  0.1961]\n",
      " [ 0.9806 -0.1961]\n",
      " [-0.5812 -0.8137]\n",
      " [-0.8137 -0.5812]]\n",
      "\n",
      "\n",
      "[[ 0.1961 -0.1961  0.9806  0.9806 -0.5812 -0.8137]]\n",
      "\n",
      "\n",
      "[[ 0.1961 -0.1961  0.9806  0.9806 -0.5812 -0.8137]\n",
      " [ 0.9806  0.9806  0.1961 -0.1961 -0.8137 -0.5812]]\n",
      "\n",
      "\n",
      "[[ 0.1961  0.9806]\n",
      " [-0.1961  0.9806]\n",
      " [ 0.9806  0.1961]\n",
      " [ 0.9806 -0.1961]\n",
      " [-0.5812 -0.8137]\n",
      " [-0.8137 -0.5812]]\n"
     ]
    }
   ],
   "source": [
    "import matplotlib.pyplot as plt\n",
    "\n",
    "input_data = np.array([\n",
    "    [0.1961, 0.9806],\n",
    "    [-0.1961, 0.9806],\n",
    "    [0.9806, 0.1961],\n",
    "    [0.9806, -0.1961],\n",
    "    [-0.5812, -0.8137],\n",
    "    [-0.8137, -0.5812],\n",
    "])\n",
    "print(input_data)\n",
    "print('\\n')\n",
    "print(input_data.T[0:1, :])\n",
    "print('\\n')\n",
    "print(input_data.T[0:2,:])\n",
    "print('\\n')\n",
    "\n",
    "plt.plot(input_data.T[0:1, :], input_data.T[1:2, :], 'ko')\n",
    "print(input_data)\n"
   ]
  },
  {
   "cell_type": "code",
   "execution_count": 70,
   "metadata": {},
   "outputs": [
    {
     "name": "stdout",
     "output_type": "stream",
     "text": [
      "[[1.35e-01 7.30e-06 6.70e-02 ... 0.00e+00 0.00e+00 0.00e+00]\n",
      " [1.43e-01 7.10e-06 7.30e-02 ... 0.00e+00 0.00e+00 0.00e+00]\n",
      " [1.62e-01 8.00e-06 8.70e-02 ... 0.00e+00 0.00e+00 0.00e+00]\n",
      " ...\n",
      " [4.34e-01 2.95e-05 1.78e-01 ... 0.00e+00 0.00e+00 0.00e+00]\n",
      " [4.64e-01 3.07e-05 1.95e-01 ... 0.00e+00 0.00e+00 0.00e+00]\n",
      " [4.74e-01 3.07e-05 1.79e-01 ... 0.00e+00 0.00e+00 0.00e+00]]\n",
      "this is my second data\n",
      "\n",
      "\n",
      "[[1.48800e+00 9.02130e-05 9.00000e-01 ... 0.00000e+00 0.00000e+00\n",
      "  1.00000e+00]\n",
      " [7.28000e-01 3.76980e-05 3.53000e-01 ... 0.00000e+00 0.00000e+00\n",
      "  1.00000e+00]\n",
      " [1.22000e+00 7.40410e-05 7.32000e-01 ... 1.00000e+00 1.78000e-01\n",
      "  1.00000e+00]\n",
      " ...\n",
      " [2.91200e+00 2.26205e-04 1.14100e+00 ... 1.00000e+00 4.57400e+00\n",
      "  0.00000e+00]\n",
      " [3.78800e+00 2.74883e-04 1.78600e+00 ... 3.00000e+00 1.95750e+01\n",
      "  0.00000e+00]\n",
      " [1.80900e+00 1.48510e-04 6.80000e-01 ... 1.00000e+00 3.38700e+00\n",
      "  0.00000e+00]]\n",
      "\n",
      "\n",
      "float64\n",
      "this is my finished data\n",
      "[[1.06200e+00 5.43390e-05 2.76000e-01 ... 0.00000e+00 0.00000e+00\n",
      "  0.00000e+00]\n",
      " [1.91700e+00 1.53518e-04 5.89000e-01 ... 1.00000e+00 4.10400e+00\n",
      "  0.00000e+00]\n",
      " [9.74000e-01 6.87920e-05 5.73000e-01 ... 0.00000e+00 0.00000e+00\n",
      "  0.00000e+00]\n",
      " ...\n",
      " [1.71300e+00 8.65310e-05 7.29000e-01 ... 0.00000e+00 0.00000e+00\n",
      "  0.00000e+00]\n",
      " [5.34200e+00 3.10772e-04 2.40400e+00 ... 6.00000e+00 1.83370e+01\n",
      "  0.00000e+00]\n",
      " [2.94900e+00 2.90378e-04 1.50100e+00 ... 1.00000e+00 2.30930e+01\n",
      "  0.00000e+00]]\n",
      "\n",
      "\n",
      "[[2.16500e+00 1.22725e-04 1.08800e+00 ... 0.00000e+00 0.00000e+00\n",
      "  0.00000e+00]\n",
      " [1.81000e+00 1.71405e-04 8.65000e-01 ... 0.00000e+00 0.00000e+00\n",
      "  0.00000e+00]\n",
      " [4.49000e-01 2.10520e-05 2.08000e-01 ... 0.00000e+00 0.00000e+00\n",
      "  1.00000e+00]\n",
      " ...\n",
      " [8.26000e-01 5.72710e-05 2.44000e-01 ... 1.00000e+00 3.34200e+00\n",
      "  0.00000e+00]\n",
      " [4.37900e+00 2.55401e-04 2.33300e+00 ... 0.00000e+00 0.00000e+00\n",
      "  1.00000e+00]\n",
      " [3.14200e+00 1.84233e-04 1.53500e+00 ... 2.00000e+00 2.60900e+01\n",
      "  0.00000e+00]]\n",
      "\n",
      "\n",
      "\n",
      "\n",
      "[0. 0. 0. 0. 0. 1. 0. 0. 1. 1. 0. 1. 0. 0. 0. 1. 1. 1. 1. 1. 1. 0. 1. 0.\n",
      " 0. 0. 0. 1. 0. 1. 1. 0. 0. 0. 1. 0. 0. 1. 0. 1. 1. 0. 0. 1. 0. 1. 0. 0.\n",
      " 0. 1. 1. 1. 1. 1. 0. 0. 1. 0. 1. 0. 0. 0. 1. 1. 1. 1. 1. 1. 1. 1. 0. 1.\n",
      " 0. 0. 1. 0. 1. 1. 1. 0. 1. 0. 0. 1. 1. 1. 0. 1. 0. 0. 0. 1. 0. 0. 1. 1.\n",
      " 0. 1. 1. 0. 0. 0. 1. 0. 1. 0. 0. 0. 0. 1. 0. 0. 1. 1. 0. 1. 1. 0. 0. 0.\n",
      " 1. 0. 0. 1. 1. 1. 1. 1. 1. 1. 1. 0. 0. 1. 0. 0. 0. 0. 1. 1. 0. 0. 1. 0.\n",
      " 1. 0. 1. 1. 1. 0. 1. 1. 1. 1. 1. 1. 1. 0. 0. 0. 1. 1. 0. 1. 1. 1. 1. 0.\n",
      " 1. 1. 0. 0. 1. 1. 1. 1. 1. 1. 1. 1. 0. 1. 0. 1. 0. 0. 0. 0. 1. 0. 0. 1.\n",
      " 0. 1. 0. 1. 1. 1. 1. 1. 0. 1. 1. 1. 1. 1. 1. 0. 1. 1. 0. 0. 1. 1. 0. 1.\n",
      " 1. 1. 1. 1. 0. 1. 0. 0. 0. 0. 0. 1. 0. 0. 0. 1. 1. 0. 1. 1. 1. 0. 1. 0.\n",
      " 1. 0. 1. 0. 1. 0. 0. 1. 1. 0. 0. 0. 1. 0. 1. 1. 1. 1. 1. 1. 1. 0. 0. 0.\n",
      " 1. 0. 0. 1. 0. 0. 1. 0. 0. 0. 1. 1. 1. 0. 1. 1. 1. 1. 0. 0. 0. 1. 0. 1.\n",
      " 1. 0. 0. 1. 1. 0. 0. 0. 0. 0. 1. 1. 0. 1. 1. 0. 0. 0. 1. 0. 0. 1. 0. 1.\n",
      " 1. 1. 1. 1. 1. 0. 0. 0. 1. 0. 1. 1. 1. 1. 1. 0. 1. 0. 0. 1. 1. 1. 1. 0.\n",
      " 0. 0. 0. 1. 0. 1. 1. 1. 0. 0. 1. 1. 1. 0. 1. 1. 0. 0. 1. 1. 1. 0. 1. 1.\n",
      " 1. 1. 0. 0. 0. 0. 1. 0. 1. 0. 1. 0. 0. 1. 1. 1. 0. 0. 0. 0. 0. 1. 0. 1.\n",
      " 0. 1. 1. 0. 0. 1. 1. 0. 1. 1. 1. 0. 0. 0. 1. 1. 0. 0. 1. 1. 1. 0. 0. 0.\n",
      " 1. 0. 1. 1. 0. 0. 1. 0. 0. 0. 0. 1. 1. 0. 1. 1. 0. 0. 1. 0. 0. 0. 1. 0.\n",
      " 0. 0. 1. 0. 1. 1. 0. 0. 1. 0. 1. 0. 1. 0. 0. 0. 1. 0. 0. 1. 1. 0. 1. 0.\n",
      " 1. 0. 0. 0. 1. 0. 0. 0. 0. 0. 0. 0. 1. 1. 1. 1. 1. 1. 0. 0. 1. 0. 1. 0.\n",
      " 0. 1. 0. 0. 0. 0. 1. 1. 0. 0. 0. 1. 1. 1. 0. 0. 0. 0. 1. 1. 1. 0. 1. 0.\n",
      " 1. 1. 1. 0. 0. 0. 0. 1. 0. 0. 0. 0. 0. 0. 1. 0. 1. 1. 1. 1. 1. 1. 0. 1.\n",
      " 1. 1. 1. 1. 0. 0. 1. 1. 1. 1. 0. 0. 0. 0. 1. 1. 1. 0. 1. 0. 1. 0. 0. 1.\n",
      " 0. 1. 1. 1. 1. 1. 0. 1. 1. 0. 1. 0. 0. 1. 1. 1. 0. 0. 0. 0. 0. 0. 0. 1.\n",
      " 0. 0. 0. 0. 0. 0. 1. 0. 1. 1. 0. 0. 0. 0. 0. 0. 0. 0. 0. 0. 1. 0. 1. 1.\n",
      " 1. 1. 0. 1. 1. 1. 1. 0. 1. 1. 0. 1. 0. 0. 0. 0. 0. 1. 1. 1. 1. 0. 1. 1.\n",
      " 0. 0. 1. 1. 1. 1. 1. 1. 1. 0. 0. 0. 0. 1. 0. 1. 0. 1. 0. 0. 1. 0. 1. 1.\n",
      " 1. 0. 0. 1. 1. 1. 1. 1. 1. 1. 0. 0. 1. 1. 0. 0. 1. 1. 1. 0. 0. 1. 0. 0.\n",
      " 1. 1. 1. 1. 0. 1. 0. 1. 1. 0. 1. 0. 1. 1. 0. 1. 0. 1. 1. 0. 0. 1. 0. 0.\n",
      " 1. 1. 1. 0. 1. 0. 0. 1. 0. 1. 1. 1. 1. 0. 0. 1. 0. 0. 1. 0. 0. 1. 0. 1.\n",
      " 1. 0. 0. 1. 0. 1. 0. 0. 1. 0. 0. 0. 1. 0. 1. 0. 1. 0. 1. 0. 1. 0. 1. 1.\n",
      " 1. 0. 0. 0. 0. 0. 1. 0. 1. 1. 1. 0. 1. 0. 1. 1. 0. 1. 1. 0. 0. 1. 1. 0.\n",
      " 1. 1. 1. 0. 1. 0. 0. 1. 0. 0. 1. 0. 1. 1. 0. 1. 1. 0. 1. 1. 0. 0. 0. 0.\n",
      " 0. 1. 0. 1. 1. 0. 1. 0. 0. 0. 1. 0. 1. 0. 1. 1. 0. 0. 0. 0. 1. 0. 0. 1.\n",
      " 0. 0. 0. 1. 1. 0. 0. 1. 0. 0. 1. 0. 0. 0. 0. 0.]\n",
      "\n",
      "\n",
      "\n",
      "\n",
      "[0. 0. 1. 1. 1. 0. 1. 0. 1. 1. 1. 0. 0. 1. 1. 1. 0. 0. 1. 0. 1. 1. 0. 1.\n",
      " 1. 0. 0. 0. 1. 1. 1. 0. 1. 0. 0. 0. 1. 0. 1. 1. 1. 1. 0. 0. 1. 1. 0. 1.\n",
      " 1. 1. 0. 1. 1. 1. 1. 1. 1. 0. 1. 0. 1. 1. 0. 1. 1. 1. 0. 0. 0. 0. 0. 1.\n",
      " 0. 0. 1. 0. 1. 1. 1. 0. 0. 0. 1. 1. 0. 1. 0. 0. 0. 0. 0. 1. 0. 0. 0. 1.\n",
      " 1. 1. 1. 1. 0. 0. 1. 1. 1. 0. 1. 1. 1. 0. 0. 1. 1. 0. 1. 0. 0. 0. 1. 0.\n",
      " 0. 1. 0. 0. 0. 1. 0. 0. 1. 0. 1. 0. 0. 0. 0. 1. 0. 0. 1. 1. 0. 0. 0. 0.\n",
      " 0. 1. 1. 1. 1. 1. 1. 1. 0. 0. 0. 1. 0. 0. 0. 1. 0. 0. 1. 1. 1. 0. 0. 1.\n",
      " 1. 1. 1. 0. 1. 1. 0. 0. 1. 1. 1. 1. 1. 0. 0. 0. 0. 1. 0. 0. 0. 0. 0. 0.\n",
      " 0. 0. 1. 0. 0. 0. 0. 0. 1. 1. 0. 0. 1. 0. 1. 0.]\n",
      "\n",
      "\n",
      "27\n",
      "\n",
      "\n",
      "6\n",
      "\n",
      "\n",
      "float64\n",
      "\n",
      "Main information\n",
      "\n",
      "[ALGORITHM] RMSProp\n",
      "\r\n",
      "[OPTION] batch_size = 64\n",
      "[OPTION] verbose = True\n",
      "[OPTION] epoch_end_signal = None\n",
      "[OPTION] show_epoch = 1\n",
      "[OPTION] shuffle_data = False\n",
      "[OPTION] step = 0.05\n",
      "[OPTION] train_end_signal = None\n",
      "[OPTION] error = mse\n",
      "[OPTION] addons = None\n",
      "[OPTION] decay = 0.95\n",
      "[OPTION] epsilon = 1e-05\n",
      "\r\n",
      "[THEANO] Initializing Theano variables and functions.\n"
     ]
    },
    {
     "name": "stderr",
     "output_type": "stream",
     "text": [
      "Time: 0:00:00 |N/A%|                           | ETA:  --:--:-- | error: ------"
     ]
    },
    {
     "name": "stdout",
     "output_type": "stream",
     "text": [
      "[THEANO] Initialization finished successfully. It took 0.37 seconds\n",
      "\n",
      "Start training\n",
      "\n",
      "[TRAINING DATA] shapes: (832, 27)\n",
      "[TEST DATA] shapes: (208, 27)\n",
      "[TRAINING] Total epochs: 20\n",
      "\r\n",
      "---------------------------------------------------------\n",
      "|    Epoch    |  Train err  |  Valid err  |    Time     |\n",
      "---------------------------------------------------------\n",
      "|           1 |     0.50361 |     0.48558 |       87 ms |\n",
      "|           2 |     0.50361 |     0.48558 |       87 ms |\n"
     ]
    },
    {
     "name": "stderr",
     "output_type": "stream",
     "text": [
      "                                                                               \r"
     ]
    },
    {
     "name": "stdout",
     "output_type": "stream",
     "text": [
      "|           3 |     0.50361 |     0.48558 |       95 ms |\n",
      "|           4 |     0.50361 |     0.48558 |       91 ms |\n"
     ]
    },
    {
     "name": "stderr",
     "output_type": "stream",
     "text": [
      "                                                                               \r"
     ]
    },
    {
     "name": "stdout",
     "output_type": "stream",
     "text": [
      "|           5 |     0.50361 |     0.48558 |      126 ms |\n",
      "|           6 |     0.50361 |     0.48558 |      109 ms |\n"
     ]
    },
    {
     "name": "stderr",
     "output_type": "stream",
     "text": [
      "Time: 0:00:00 |N/A%|                           | ETA:  --:--:-- | error: ------"
     ]
    },
    {
     "name": "stdout",
     "output_type": "stream",
     "text": [
      "|           7 |     0.50361 |     0.48558 |      106 ms |\n",
      "|           8 |     0.50361 |     0.48558 |      100 ms |\n"
     ]
    },
    {
     "name": "stderr",
     "output_type": "stream",
     "text": [
      "Time: 0:00:00 |N/A%|                           | ETA:  --:--:-- | error: ------"
     ]
    },
    {
     "name": "stdout",
     "output_type": "stream",
     "text": [
      "|           9 |     0.50361 |     0.48558 |      106 ms |\n",
      "|          10 |     0.50361 |     0.48558 |      105 ms |\n",
      "|          11 |     0.50361 |     0.48558 |       94 ms |\n"
     ]
    },
    {
     "name": "stderr",
     "output_type": "stream",
     "text": [
      "                                                                               \r"
     ]
    },
    {
     "name": "stdout",
     "output_type": "stream",
     "text": [
      "|          12 |     0.50361 |     0.48558 |      109 ms |\n",
      "|          13 |     0.50361 |     0.48558 |      114 ms |\n"
     ]
    },
    {
     "name": "stderr",
     "output_type": "stream",
     "text": [
      "                                                                               \r"
     ]
    },
    {
     "name": "stdout",
     "output_type": "stream",
     "text": [
      "|          14 |     0.50361 |     0.48558 |      106 ms |\n",
      "|          15 |     0.50361 |     0.48558 |      109 ms |\n"
     ]
    },
    {
     "name": "stderr",
     "output_type": "stream",
     "text": [
      "Time: 0:00:00 |N/A%|                           | ETA:  --:--:-- | error: ------"
     ]
    },
    {
     "name": "stdout",
     "output_type": "stream",
     "text": [
      "|          16 |     0.50361 |     0.48558 |      106 ms |\n",
      "|          17 |     0.50361 |     0.48558 |      101 ms |\n",
      "|          18 |     0.50361 |     0.48558 |       86 ms |\n"
     ]
    },
    {
     "name": "stderr",
     "output_type": "stream",
     "text": [
      "Time: 0:00:00 |N/A%|                                           | ETA:  --:--:--"
     ]
    },
    {
     "name": "stdout",
     "output_type": "stream",
     "text": [
      "|          19 |     0.50361 |     0.48558 |      108 ms |\n",
      "|          20 |     0.50361 |     0.48558 |      106 ms |\n",
      "---------------------------------------------------------\n",
      "\r\n",
      "Test accuracy: 51.44%\n"
     ]
    },
    {
     "name": "stderr",
     "output_type": "stream",
     "text": [
      "\r",
      "                                                                               \r"
     ]
    }
   ],
   "source": [
    "import numpy as np\n",
    "from neupy import algorithms, layers, environment\n",
    "from sklearn.model_selection import train_test_split\n",
    "from sklearn import metrics\n",
    "\n",
    "environment.reproducible()\n",
    "environment.speedup()\n",
    "\n",
    "test_data=np.loadtxt('test_data.txt',dtype='float',delimiter=',')\n",
    "train_data=np.loadtxt('train_data.txt',dtype='float64',delimiter=',')\n",
    "\n",
    "target=train_data[:,28]\n",
    "train_data=np.delete(train_data,27,1)\n",
    "\n",
    "train_data=np.delete(train_data,0,1)\n",
    "\n",
    "y_target=test_data[:,27]\n",
    "test_data=np.delete(test_data,27,1)\n",
    "test_data=np.delete(test_data,0,1)\n",
    "\n",
    "print(test_data)\n",
    "print('this is my second data')\n",
    "print('\\n')\n",
    "print(train_data)\n",
    "print('\\n')\n",
    "print(train_data.dtype)\n",
    "\n",
    "\n",
    "x_train, x_test, y_train, y_test = train_test_split(\n",
    "    train_data, target, test_size=0.2)\n",
    "n_time_steps=x_train.shape[1]\n",
    "print('this is my finished data')\n",
    "print(x_train)\n",
    "print('\\n')\n",
    "print(x_test)\n",
    "print('\\n')\n",
    "print('\\n')\n",
    "print(y_train)\n",
    "print('\\n')\n",
    "print('\\n')\n",
    "print(y_test)\n",
    "print('\\n')\n",
    "print(n_time_steps)\n",
    "print('\\n')\n",
    "print(n_categories)\n",
    "print('\\n')\n",
    "print(x_train.dtype)\n",
    "\n",
    "\n",
    "network = algorithms.RMSProp(\n",
    "    [\n",
    "        layers.Input(n_time_steps),\n",
    "        # shape: (n_samples, n_time_steps)\n",
    "\n",
    "        layers.Sigmoid(1),\n",
    "        # shape: (n_samples, 1)\n",
    "    ],\n",
    "\n",
    "    step=0.05,\n",
    "    verbose=True,\n",
    "    batch_size=64,\n",
    "\n",
    ")\n",
    "network.train(x_train, y_train, x_test, y_test, epochs=20)\n",
    "\n",
    "y_predicted = network.predict(x_test).round()\n",
    "accuracy = (y_predicted.T == y_test).mean()\n",
    "\n",
    "\n",
    "\n",
    "print(\"Test accuracy: {:.2%}\".format(accuracy))\n"
   ]
  },
  {
   "cell_type": "code",
   "execution_count": 60,
   "metadata": {},
   "outputs": [
    {
     "name": "stdout",
     "output_type": "stream",
     "text": [
      "[array([4, 4, 4, 4, 2, 1, 1, 5, 5, 2]) array([2, 4, 4, 2, 5])\n",
      " array([2, 2, 3, 5]) ... array([1, 1, 4, 4, 2, 5]) array([4, 1, 2, 5])\n",
      " array([2, 4, 4, 2, 3, 4, 2, 3, 4, 4, 2, 3, 5])]\n",
      "\n",
      "\n",
      "\n",
      "\n",
      "\n",
      "\n",
      "\n",
      "\n",
      "[[0. 0. 0. ... 5. 5. 2.]\n",
      " [0. 0. 0. ... 4. 2. 5.]\n",
      " [0. 0. 0. ... 2. 3. 5.]\n",
      " ...\n",
      " [0. 0. 0. ... 4. 2. 5.]\n",
      " [0. 0. 0. ... 1. 2. 5.]\n",
      " [0. 0. 0. ... 2. 3. 5.]]\n",
      "\n",
      "\n",
      "\n",
      "\n",
      "\n",
      "\n",
      "\n",
      "\n",
      "[[0. 0. 0. ... 1. 4. 1.]\n",
      " [0. 0. 0. ... 4. 2. 5.]\n",
      " [0. 0. 0. ... 1. 1. 3.]\n",
      " ...\n",
      " [0. 0. 0. ... 4. 3. 3.]\n",
      " [0. 0. 0. ... 5. 2. 2.]\n",
      " [0. 0. 0. ... 3. 1. 5.]]\n",
      "\n",
      "\n",
      "[[0. 0. 0. ... 3. 1. 3.]\n",
      " [0. 0. 0. ... 4. 2. 5.]\n",
      " [0. 0. 0. ... 2. 2. 5.]\n",
      " ...\n",
      " [0. 0. 0. ... 1. 1. 5.]\n",
      " [0. 0. 0. ... 4. 3. 5.]\n",
      " [0. 0. 0. ... 1. 1. 5.]]\n",
      "\n",
      "\n",
      "\n",
      "\n",
      "[0 1 0 ... 0 0 1]\n",
      "\n",
      "\n",
      "\n",
      "\n",
      "[0 1 1 ... 1 0 1]\n",
      "\n",
      "\n",
      "29\n",
      "\n",
      "\n",
      "6\n",
      "\n",
      "\n",
      "float64\n"
     ]
    }
   ],
   "source": [
    "import numpy as np\n",
    "\n",
    "from sklearn.model_selection import train_test_split\n",
    "from neupy import algorithms, layers, environment\n",
    "from neupy.datasets import reber\n",
    "\n",
    "\n",
    "environment.reproducible()\n",
    "environment.speedup()\n",
    "\n",
    "\n",
    "def add_padding(data):\n",
    "    n_sampels = len(data)\n",
    "    max_seq_length = max(map(len, data))\n",
    "\n",
    "    data_matrix = np.zeros((n_sampels, max_seq_length))\n",
    "    for i, sample in enumerate(data):\n",
    "        data_matrix[i, -len(sample):] = sample\n",
    "\n",
    "    return data_matrix\n",
    "\n",
    "\n",
    "# An example of possible values for the `data` and `labels`\n",
    "# variables\n",
    "#\n",
    "# >>> data\n",
    "# array([array([1, 3, 1, 4]),\n",
    "#        array([0, 3, 0, 3, 0, 4, 3, 0, 4, 4]),\n",
    "#        array([0, 3, 0, 0, 3, 0, 4, 2, 4, 1, 0, 4, 0])], dtype=object)\n",
    "# >>>\n",
    "# >>> labels\n",
    "# array([1, 0, 0])\n",
    "data, labels = reber.make_reber_classification(\n",
    "    n_samples=10000, return_indeces=True)\n",
    "\n",
    "# Shift all indeces by 1. In the next row we will add zero\n",
    "# paddings, so we need to make sure that we will not confuse\n",
    "# paddings with zero indeces.\n",
    "data = data + 1\n",
    "\n",
    "# Add paddings at the beggining of each vector to make sure\n",
    "# that all samples has the same length. This trick allows to\n",
    "# train network with multiple independent samples.\n",
    "print(data)\n",
    "print('\\n')\n",
    "print('\\n')\n",
    "print('\\n')\n",
    "print('\\n')\n",
    "\n",
    "data = add_padding(data)\n",
    "\n",
    "print(data)\n",
    "print('\\n')\n",
    "print('\\n')\n",
    "print('\\n')\n",
    "print('\\n')\n",
    "x_train, x_test, y_train, y_test = train_test_split(\n",
    "    data, labels, test_size=0.2)\n",
    "\n",
    "n_categories = len(reber.avaliable_letters) + 1  # +1 for zero paddings\n",
    "n_time_steps = x_train.shape[1]\n",
    "\n",
    "print(x_train)\n",
    "print('\\n')\n",
    "print(x_test)\n",
    "print('\\n')\n",
    "print('\\n')\n",
    "print(y_train)\n",
    "print('\\n')\n",
    "print('\\n')\n",
    "print(y_test)\n",
    "print('\\n')\n",
    "print(n_time_steps)\n",
    "print('\\n')\n",
    "print(n_categories)\n",
    "print('\\n')\n",
    "print(x_train.dtype)"
   ]
  },
  {
   "cell_type": "code",
   "execution_count": 76,
   "metadata": {},
   "outputs": [
    {
     "name": "stdout",
     "output_type": "stream",
     "text": [
      "\n",
      " 1\n",
      " 1\n",
      " 1\n",
      " 1\n",
      " 1\n",
      "[torch.FloatTensor of size 5]\n",
      "\n",
      "[1. 1. 1. 1. 1.]\n",
      "\n",
      " 2\n",
      " 2\n",
      " 2\n",
      " 2\n",
      " 2\n",
      "[torch.FloatTensor of size 5]\n",
      "\n",
      "[2. 2. 2. 2. 2.]\n",
      "\n",
      " 3\n",
      " 3\n",
      " 3\n",
      " 3\n",
      " 3\n",
      "[torch.FloatTensor of size 5]\n",
      "\n",
      "[3. 3. 3. 3. 3.]\n"
     ]
    }
   ],
   "source": [
    "import torch\n",
    "x = torch.Tensor(5, 3)\n",
    "y = torch.rand(5, 3)\n",
    "\n",
    "\n",
    "a = torch.ones(5)\n",
    "print(a)\n",
    "b = a.numpy()\n",
    "print(b)\n",
    "\n",
    "a.add_(1)\n",
    "print(a)\n",
    "print(b)\n",
    "a.add_(1)\n",
    "print(a)\n",
    "print(b)\n"
   ]
  },
  {
   "cell_type": "code",
   "execution_count": 77,
   "metadata": {},
   "outputs": [
    {
     "name": "stdout",
     "output_type": "stream",
     "text": [
      "[2. 2. 2. 2. 2.]\n",
      "\n",
      " 2\n",
      " 2\n",
      " 2\n",
      " 2\n",
      " 2\n",
      "[torch.DoubleTensor of size 5]\n",
      "\n"
     ]
    }
   ],
   "source": [
    "import numpy as np\n",
    "a = np.ones(5)\n",
    "b = torch.from_numpy(a)\n",
    "np.add(a, 1, out = a)\n",
    "print(a)\n",
    "print(b)\n"
   ]
  },
  {
   "cell_type": "code",
   "execution_count": 81,
   "metadata": {},
   "outputs": [
    {
     "name": "stdout",
     "output_type": "stream",
     "text": [
      "Variable containing:\n",
      " 1  1\n",
      " 1  1\n",
      "[torch.FloatTensor of size 2x2]\n",
      "\n",
      "Variable containing:\n",
      " 3  3\n",
      " 3  3\n",
      "[torch.FloatTensor of size 2x2]\n",
      "\n",
      "<AddBackward0 object at 0x0000018006DD40B8>\n",
      "Variable containing:\n",
      " 27  27\n",
      " 27  27\n",
      "[torch.FloatTensor of size 2x2]\n",
      " Variable containing:\n",
      " 27\n",
      "[torch.FloatTensor of size 1]\n",
      "\n"
     ]
    }
   ],
   "source": [
    "import torch\n",
    "from torch.autograd import Variable\n",
    "x = Variable(torch.ones(2, 2), requires_grad = True)\n",
    "print(x)\n",
    "y = x + 2\n",
    "print(y)\n",
    "print(y.grad_fn)\n",
    "z = y * y * 3\n",
    "out = z.mean()\n",
    "\n",
    "print(z, out)\n"
   ]
  },
  {
   "cell_type": "code",
   "execution_count": 82,
   "metadata": {},
   "outputs": [
    {
     "name": "stdout",
     "output_type": "stream",
     "text": [
      "Variable containing:\n",
      " 1118.0179\n",
      "  775.4217\n",
      " -985.9751\n",
      "[torch.FloatTensor of size 3]\n",
      "\n"
     ]
    }
   ],
   "source": [
    "x = torch.randn(3)\n",
    "x = Variable(x, requires_grad = True)\n",
    "\n",
    "y = x * 2\n",
    "while y.data.norm() < 1000:\n",
    "    y = y * 2\n",
    "\n",
    "print(y)\n"
   ]
  },
  {
   "cell_type": "code",
   "execution_count": 90,
   "metadata": {},
   "outputs": [
    {
     "data": {
      "image/png": "[encoded data removed]",
      "text/plain": [
       "<matplotlib.figure.Figure at 0x180070749e8>"
      ]
     },
     "metadata": {},
     "output_type": "display_data"
    },
    {
     "name": "stdout",
     "output_type": "stream",
     "text": [
      "Net(\n",
      "  (hidden): Linear(in_features=2, out_features=10, bias=True)\n",
      "  (out): Linear(in_features=10, out_features=2, bias=True)\n",
      ")\n"
     ]
    },
    {
     "data": {
      "image/png": "[encoded data removed]",
      "text/plain": [
       "<matplotlib.figure.Figure at 0x18007074ba8>"
      ]
     },
     "metadata": {},
     "output_type": "display_data"
    }
   ],
   "source": [
    "\"\"\"\n",
    "View more, visit my tutorial page: https://morvanzhou.github.io/tutorials/\n",
    "My Youtube Channel: https://www.youtube.com/user/MorvanZhou\n",
    "Dependencies:\n",
    "torch: 0.4\n",
    "matplotlib\n",
    "\"\"\"\n",
    "import torch\n",
    "import torch.nn.functional as F\n",
    "import matplotlib.pyplot as plt\n",
    " \n",
    "# torch.manual_seed(1)    # reproducible\n",
    "\n",
    "# make fake data\n",
    "\n",
    "n_data = torch.ones(100, 2)\n",
    "x0 = torch.normal(2*n_data, 1)      # class0 x data (tensor), shape=(100, 2)\n",
    "y0 = torch.zeros(100)               # class0 y data (tensor), shape=(100, 1)\n",
    "x1 = torch.normal(-2*n_data, 1)     # class1 x data (tensor), shape=(100, 2)\n",
    "y1 = torch.ones(100)                # class1 y data (tensor), shape=(100, 1)\n",
    "x = torch.cat((x0, x1), 0).type(torch.FloatTensor)  # shape (200, 2) FloatTensor = 32-bit floating\n",
    "y = torch.cat((y0, y1), ).type(torch.LongTensor)    # shape (200,) LongTensor = 64-bit integer\n",
    "\n",
    "\n",
    "print('x0 = ' + x0)\n",
    "print('y0 = ' + x0)\n",
    "print('x1 = ' + x0)\n",
    "print('y1 = '  + x0)\n",
    "# The code below is deprecated in Pytorch 0.4. Now, autograd directly supports tensors\n",
    "x, y = Variable(x), Variable(y)\n",
    "plt.scatter(x.data.numpy()[:, 0], x.data.numpy()[:, 1], c=y.data.numpy(), s=100, lw=0, cmap='RdYlGn')\n",
    "plt.show()\n",
    "\n",
    "\n",
    "class Net(torch.nn.Module):\n",
    "    def __init__(self, n_feature, n_hidden, n_output):\n",
    "        super(Net, self).__init__()\n",
    "        self.hidden = torch.nn.Linear(n_feature, n_hidden)   # hidden layer\n",
    "        self.out = torch.nn.Linear(n_hidden, n_output)   # output layer\n",
    "\n",
    "    def forward(self, x):\n",
    "        x = F.relu(self.hidden(x))      # activation function for hidden layer\n",
    "        x = self.out(x)\n",
    "        return x\n",
    "\n",
    "net = Net(n_feature=2, n_hidden=10, n_output=2)     # define the network\n",
    "print(net)  # net architecture\n",
    "\n",
    "optimizer = torch.optim.SGD(net.parameters(), lr=0.02)\n",
    "loss_func = torch.nn.CrossEntropyLoss()  # the target label is NOT an one-hotted\n",
    "\n",
    "plt.ion()   # something about plotting\n",
    "\n",
    "for t in range(100):\n",
    "    out = net(x)                 # input x and predict based on x\n",
    "    loss = loss_func(out, y)     # must be (1. nn output, 2. target), the target label is NOT one-hotted\n",
    "\n",
    "    optimizer.zero_grad()   # clear gradients for next train\n",
    "    loss.backward()         # backpropagation, compute gradients\n",
    "    optimizer.step()        # apply gradients\n",
    "\n",
    "    if t % 2 == 0:\n",
    "        # plot and show learning process\n",
    "        plt.cla()\n",
    "        prediction = torch.max(out, 1)[1]\n",
    "        pred_y = prediction.data.numpy().squeeze()\n",
    "        target_y = y.data.numpy()\n",
    "        plt.scatter(x.data.numpy()[:, 0], x.data.numpy()[:, 1], c=pred_y, s=100, lw=0, cmap='RdYlGn')\n",
    "        accuracy = float((pred_y == target_y).astype(int).sum()) / float(target_y.size)\n",
    "        plt.text(1.5, -4, 'Accuracy=%.2f' % accuracy, fontdict={'size': 20, 'color':  'red'})\n",
    "        plt.pause(0.1)\n",
    "\n",
    "plt.ioff()\n",
    "plt.show()\n"
   ]
  },
  {
   "cell_type": "code",
   "execution_count": null,
   "metadata": {},
   "outputs": [],
   "source": []
  }
 ],
 "metadata": {
  "kernelspec": {
   "display_name": "Python 3",
   "language": "python",
   "name": "python3"
  },
  "language_info": {
   "codemirror_mode": {
    "name": "ipython",
    "version": 3
   },
   "file_extension": ".py",
   "mimetype": "text/x-python",
   "name": "python",
   "nbconvert_exporter": "python",
   "pygments_lexer": "ipython3",
   "version": "3.6.1"
  }
 },
 "nbformat": 4,
 "nbformat_minor": 2
}
