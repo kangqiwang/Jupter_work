{
 "cells": [
  {
   "cell_type": "code",
   "execution_count": 21,
   "metadata": {},
   "outputs": [],
   "source": [
    "from sklearn import datasets, model_selection\n",
    "mnist = datasets.fetch_mldata('MNIST original')\n",
    "data, target = mnist.data, mnist.target\n"
   ]
  },
  {
   "cell_type": "code",
   "execution_count": 22,
   "metadata": {},
   "outputs": [],
   "source": [
    "from sklearn.preprocessing import OneHotEncoder\n",
    "\n",
    "data = data / 255.\n",
    "data = data - data.mean(axis=0)\n",
    "\n",
    "target_scaler = OneHotEncoder()\n",
    "target = target_scaler.fit_transform(target.reshape(-1, 1))\n",
    "target = target.todense()\n"
   ]
  },
  {
   "cell_type": "code",
   "execution_count": 23,
   "metadata": {},
   "outputs": [
    {
     "name": "stderr",
     "output_type": "stream",
     "text": [
      "F:\\Users\\Administrator\\Anaconda3\\lib\\site-packages\\sklearn\\model_selection\\_split.py:2026: FutureWarning: From version 0.21, test_size will always complement train_size unless both are specified.\n",
      "  FutureWarning)\n"
     ]
    }
   ],
   "source": [
    "from neupy import environment\n",
    "import numpy as np\n",
    "from sklearn.model_selection import train_test_split\n",
    "\n",
    "environment.reproducible()\n",
    "\n",
    "x_train, x_test, y_train, y_test = train_test_split(\n",
    "    data.astype(np.float32),\n",
    "    target.astype(np.float32),\n",
    "    train_size=(6. / 7)\n",
    ")\n"
   ]
  },
  {
   "cell_type": "code",
   "execution_count": 24,
   "metadata": {},
   "outputs": [],
   "source": [
    "import theano\n",
    "theano.config.floatX = 'float32'\n"
   ]
  },
  {
   "cell_type": "code",
   "execution_count": 25,
   "metadata": {},
   "outputs": [
    {
     "name": "stdout",
     "output_type": "stream",
     "text": [
      "\n",
      "Main information\n",
      "\n",
      "[ALGORITHM] Momentum\n",
      "\n",
      "[OPTION] batch_size = 128\n",
      "[OPTION] verbose = True\n",
      "[OPTION] epoch_end_signal = None\n",
      "[OPTION] show_epoch = 1\n",
      "[OPTION] shuffle_data = True\n",
      "[OPTION] step = 0.01\n",
      "[OPTION] train_end_signal = None\n",
      "[OPTION] error = categorical_crossentropy\n",
      "[OPTION] addons = None\n",
      "[OPTION] momentum = 0.99\n",
      "[OPTION] nesterov = True\n",
      "\n",
      "[THEANO] Initializing Theano variables and functions.\n",
      "[THEANO] Initialization finished successfully. It took 0.96 seconds\n"
     ]
    }
   ],
   "source": [
    "from neupy import algorithms, layers\n",
    "\n",
    "network = algorithms.Momentum(\n",
    "    [\n",
    "        layers.Input(784),\n",
    "        layers.Relu(500),\n",
    "        layers.Relu(300),\n",
    "        layers.Softmax(10),\n",
    "    ],\n",
    "    error='categorical_crossentropy',\n",
    "    step=0.01,\n",
    "    verbose=True,\n",
    "    shuffle_data=True,\n",
    "    momentum=0.99,\n",
    "    nesterov=True,\n",
    ")\n"
   ]
  },
  {
   "cell_type": "code",
   "execution_count": 26,
   "metadata": {},
   "outputs": [
    {
     "name": "stdout",
     "output_type": "stream",
     "text": [
      "\n",
      "Network's architecture\n",
      "\n",
      "-----------------------------------------------\n",
      "| # | Input shape | Layer type | Output shape |\n",
      "-----------------------------------------------\n",
      "| 1 |         784 |      Input |          784 |\n",
      "| 2 |         784 |       Relu |          500 |\n",
      "| 3 |         500 |       Relu |          300 |\n",
      "| 4 |         300 |    Softmax |           10 |\n",
      "-----------------------------------------------\n",
      "\n"
     ]
    }
   ],
   "source": [
    "network.architecture()\n"
   ]
  },
  {
   "cell_type": "code",
   "execution_count": null,
   "metadata": {},
   "outputs": [
    {
     "name": "stderr",
     "output_type": "stream",
     "text": [
      "\r",
      "                                                                               \r",
      "\r",
      "Time: 0:00:00 |N/A%|                           | ETA:  --:--:-- | error: ------"
     ]
    },
    {
     "name": "stdout",
     "output_type": "stream",
     "text": [
      "\n",
      "Start training\n",
      "\n",
      "[TRAINING DATA] shapes: (60000, 784)\n",
      "[TEST DATA] shapes: (10000, 784)\n",
      "[TRAINING] Total epochs: 20\n",
      "\r\n",
      "---------------------------------------------------------\n",
      "|    Epoch    |  Train err  |  Valid err  |    Time     |\n",
      "---------------------------------------------------------\n"
     ]
    },
    {
     "name": "stderr",
     "output_type": "stream",
     "text": [
      "                                                                               \r"
     ]
    },
    {
     "name": "stdout",
     "output_type": "stream",
     "text": [
      "|           1 |     0.28238 |      0.1108 |    02:53:51 |\n"
     ]
    },
    {
     "name": "stderr",
     "output_type": "stream",
     "text": [
      "                                                                               \r"
     ]
    },
    {
     "name": "stdout",
     "output_type": "stream",
     "text": [
      "|           2 |    0.067143 |     0.08271 |    02:46:15 |\n"
     ]
    },
    {
     "name": "stderr",
     "output_type": "stream",
     "text": [
      "Time: 0:00:00 |N/A%|                           | ETA:  --:--:-- | error: ------"
     ]
    },
    {
     "name": "stdout",
     "output_type": "stream",
     "text": [
      "|           3 |    0.037347 |    0.079509 |    02:45:02 |\n"
     ]
    },
    {
     "name": "stderr",
     "output_type": "stream",
     "text": [
      "Time: 0:01:40 | 43%|############                | ETA:  0:02:13 | error:  0.126"
     ]
    }
   ],
   "source": [
    "network.train(x_train, y_train, x_test, y_test, epochs=20)\n"
   ]
  },
  {
   "cell_type": "code",
   "execution_count": null,
   "metadata": {},
   "outputs": [],
   "source": []
  }
 ],
 "metadata": {
  "kernelspec": {
   "display_name": "Python 3",
   "language": "python",
   "name": "python3"
  },
  "language_info": {
   "codemirror_mode": {
    "name": "ipython",
    "version": 3
   },
   "file_extension": ".py",
   "mimetype": "text/x-python",
   "name": "python",
   "nbconvert_exporter": "python",
   "pygments_lexer": "ipython3",
   "version": "3.6.1"
  }
 },
 "nbformat": 4,
 "nbformat_minor": 2
}
