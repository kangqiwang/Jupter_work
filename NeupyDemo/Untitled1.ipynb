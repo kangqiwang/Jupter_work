{
 "cells": [
  {
   "cell_type": "code",
   "execution_count": null,
   "metadata": {},
   "outputs": [],
   "source": [
    "\n",
    "\n",
    "\n",
    "VGG19_WEIGHTS_FILE = os.path.join(FILES_DIR, 'parkinsons.data.csv')\n",
    "DOG_IMAGE_PATH = os.path.join(CURRENT_DIR, 'images', 'german-shepherd.jpg')\n",
    "\n",
    "theano.config.floatX = 'float32'\n",
    "vgg19 = architectures.vgg19()\n",
    "\n",
    "if not os.path.exists(VGG19_WEIGHTS_FILE):\n",
    "    download_file(\n",
    "        url=\"http://neupy.s3.amazonaws.com/imagenet-models/vgg19.pickle\",\n",
    "        filepath=VGG19_WEIGHTS_FILE,\n",
    "        description='Downloading weights')\n",
    "\n",
    "storage.load(vgg19, VGG19_WEIGHTS_FILE)\n",
    "\n",
    "dog_image = load_image(\n",
    "    DOG_IMAGE_PATH,\n",
    "    image_size=(256, 256),\n",
    "    crop_size=(224, 224))\n",
    "\n",
    "predict = vgg19.compile()\n",
    "output = predict(dog_image)\n",
    "print_top_n(output, n=5)\n"
   ]
  }
 ],
 "metadata": {
  "kernelspec": {
   "display_name": "Python 3",
   "language": "python",
   "name": "python3"
  },
  "language_info": {
   "codemirror_mode": {
    "name": "ipython",
    "version": 3
   },
   "file_extension": ".py",
   "mimetype": "text/x-python",
   "name": "python",
   "nbconvert_exporter": "python",
   "pygments_lexer": "ipython3",
   "version": "3.6.1"
  }
 },
 "nbformat": 4,
 "nbformat_minor": 2
}
